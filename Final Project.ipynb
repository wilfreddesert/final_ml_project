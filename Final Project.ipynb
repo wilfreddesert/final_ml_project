{
 "cells": [
  {
   "cell_type": "markdown",
   "metadata": {},
   "source": [
    "## Project: Predicting heart diseases with ML\n",
    "\n",
    "The main objective of this study is to build a model that can __predict__ the heart disease occurrence, based on a combination of features (risk factors) describing the disease. Different machine learning __classification__ techniques will be implemented and compared upon standard performance metric such as accuracy. \n",
    "\n",
    "The dataset used for this study was taken from UCI machine learning repository, titled __[“Heart Disease Data Set”](http://archive.ics.uci.edu/ml/datasets/Heart+Disease)__. \n",
    "\n",
    "\n",
    "Contents of the Notebook:\n",
    "\n",
    "1. Dataset structure & description\n",
    "2. Analyze, identify patterns, and explore the data\n",
    "3. Data preparation\n",
    "4. Modelling and predicting with Machine Learning\n"
   ]
  },
  {
   "cell_type": "markdown",
   "metadata": {},
   "source": [
    "### Import libraries"
   ]
  },
  {
   "cell_type": "code",
   "execution_count": 1,
   "metadata": {},
   "outputs": [],
   "source": [
    "# data analysis, splitting and wrangling\n",
    "import pandas as pd\n",
    "import numpy as np\n",
    "from sklearn.model_selection import train_test_split\n",
    "from sklearn.preprocessing import StandardScaler\n",
    "\n",
    "# visualization\n",
    "import matplotlib.pyplot as plt\n",
    "import seaborn as sns\n",
    "%matplotlib inline\n",
    "\n",
    "\n",
    "# import necessary machine learning libraries (from sklearn,preferrably)\n"
   ]
  },
  {
   "cell_type": "markdown",
   "metadata": {},
   "source": [
    "## 1. Dataset structure & description\n",
    "\n",
    "The dataset used in this project contains 14 variables. The independent variable that needs to be predicted, 'diagnosis', determines whether a person is healthy or suffer from heart disease. Experiments with the Cleveland database have concentrated on endeavours to distinguish disease presence (values 1, 2, 3, 4) from absence (value 0). There are several missing attribute values, distinguished with symbol '?'. The header row is missing in this dataset, so the column names have to be inserted manually.\n",
    "\n",
    "### Features information:\n",
    "\n",
    "- age - age in years\n",
    "- sex - sex(1 = male; 0 = female)\n",
    "- chest_pain - chest pain type (1 = typical angina; 2 = atypical angina; 3 = non-anginal pain; 4 = asymptomatic)\n",
    "- blood_pressure - resting blood pressure (in mm Hg on admission to the hospital)\n",
    "- serum_cholestoral - serum cholestoral in mg/dl\n",
    "- fasting_blood_sugar - fasting blood sugar > 120 mg/dl (1 = true; 0 = false)\n",
    "- electrocardiographic - resting electrocardiographic results (0 = normal; 1 = having ST-T; 2 = hypertrophy)\n",
    "- max_heart_rate - maximum heart rate achieved\n",
    "- induced_angina - exercise induced angina (1 = yes; 0 = no)\n",
    "- ST_depression - ST depression induced by exercise relative to rest\n",
    "- slope - the slope of the peak exercise ST segment (1 = upsloping; 2 = flat; 3 = downsloping)\n",
    "- no_of_vessels - number of major vessels (0-3) colored by flourosopy\n",
    "- thal - 3 = normal; 6 = fixed defect; 7 = reversable defect\n",
    "- diagnosis - the predicted attribute - diagnosis of heart disease (angiographic disease status) (Value 0 = < 50% diameter narrowing; Value 1 = > 50% diameter narrowing)\n",
    "\n",
    "### Types of features:\n",
    "\n",
    "__Categorical features__ (Has two or more categories and each value in that feature can be categorised by them): __sex, chest_pain__  \n",
    "\n",
    "\n",
    "__Ordinal features__ (Variable having relative ordering or sorting between the values): __fasting_blood_sugar, electrocardiographic, induced_angina, slope, no_of_vessels, thal, diagnosis__\n",
    "\n",
    "\n",
    "__Continuous features__ (Variable taking values between any two points or between the minimum or maximum values in the feature column): __age, blood_pressure, serum_cholestoral, max_heart_rate, ST_depression__\n"
   ]
  },
  {
   "cell_type": "markdown",
   "metadata": {},
   "source": [
    "### Load data"
   ]
  },
  {
   "cell_type": "code",
   "execution_count": 3,
   "metadata": {},
   "outputs": [],
   "source": [
    "# name columns according to the feature information provided above\n",
    "\n",
    "\n",
    "# read the file\n",
    "\n",
    "\n",
    "# display the first 5 lines\n"
   ]
  },
  {
   "cell_type": "code",
   "execution_count": 5,
   "metadata": {},
   "outputs": [],
   "source": [
    "# get info on the dataframe"
   ]
  },
  {
   "cell_type": "code",
   "execution_count": 6,
   "metadata": {},
   "outputs": [],
   "source": [
    "# extract numeric columns and find categorical ones\n"
   ]
  },
  {
   "cell_type": "markdown",
   "metadata": {},
   "source": [
    "## 2.Analyze features, identify patterns, and explore the data\n",
    "\n",
    "### Target value\n",
    "\n"
   ]
  },
  {
   "cell_type": "code",
   "execution_count": 7,
   "metadata": {},
   "outputs": [],
   "source": [
    "# count values of explained variable"
   ]
  },
  {
   "cell_type": "code",
   "execution_count": 8,
   "metadata": {},
   "outputs": [],
   "source": [
    "# create a boolean vector and map it with corresponding values (True=1, False=0)"
   ]
  },
  {
   "cell_type": "markdown",
   "metadata": {},
   "source": [
    "### Numeric features\n",
    "\n",
    "There are 5 numeric columns, so let's take care of them first. \n",
    "Outliers occurrence in the dataset may be a result of wrong input and create undesired noise, thus our role is to evaluate their substance. A data point is considered as an outlier when it falls outside 3 standard deviations. "
   ]
  },
  {
   "cell_type": "code",
   "execution_count": 9,
   "metadata": {},
   "outputs": [],
   "source": [
    "# view of descriptive statistics\n"
   ]
  },
  {
   "cell_type": "markdown",
   "metadata": {},
   "source": [
    "All extreme (min/max) values could occur in a real clinical scenario, hence the decision to keep them as they are. \n",
    "\n",
    "We can gain some intuition about relationships amongst numeric features by plotting each pair in a scattered form. To do this efficiently, *pairplot* method from Seaborn library comes in handy."
   ]
  },
  {
   "cell_type": "markdown",
   "metadata": {},
   "source": [
    "## 3.Data Preparation\n",
    "\n",
    "In order to make our dataset compatible with machine learning algorithms contained in Sci-kit Learn library, first of all, we need to handle all missing data.\n",
    "\n",
    "There are many options we could consider when replacing a missing value, for example:\n",
    "- A constant value that has meaning within the domain, such as 0, distinct from all other values\n",
    "- A value from another randomly selected record\n",
    "- A mean, median or mode value for the column\n",
    "- A value estimated by another predictive model"
   ]
  },
  {
   "cell_type": "code",
   "execution_count": 10,
   "metadata": {},
   "outputs": [],
   "source": [
    "# show columns having missing values\n"
   ]
  },
  {
   "cell_type": "code",
   "execution_count": 11,
   "metadata": {},
   "outputs": [],
   "source": [
    "# fill missing values with mode"
   ]
  },
  {
   "cell_type": "code",
   "execution_count": 12,
   "metadata": {},
   "outputs": [],
   "source": [
    "# extract the target variable\n"
   ]
  },
  {
   "cell_type": "code",
   "execution_count": 14,
   "metadata": {},
   "outputs": [],
   "source": [
    "# split the data into train and test datasets\n"
   ]
  },
  {
   "cell_type": "markdown",
   "metadata": {},
   "source": [
    "Data needs to be normalized or standardized before applying to machine learning algorithms. Standardization scales the data and gives information on how many standard deviations the data is placed from its mean value. Effectively, the mean of the data (µ) is 0 and the standard deviation (σ) is 1."
   ]
  },
  {
   "cell_type": "code",
   "execution_count": 16,
   "metadata": {},
   "outputs": [],
   "source": [
    "# scale feature matrices\n"
   ]
  },
  {
   "cell_type": "markdown",
   "metadata": {},
   "source": [
    "## 4. Modelling and predicting with Machine Learning\n",
    "\n",
    "Now you are free to use any machine learning algorithm you find appropriate to build a model for predicting the occurrence of a heart disease. Good luck!"
   ]
  }
 ],
 "metadata": {
  "kernelspec": {
   "display_name": "Python 3",
   "language": "python",
   "name": "python3"
  },
  "language_info": {
   "codemirror_mode": {
    "name": "ipython",
    "version": 3
   },
   "file_extension": ".py",
   "mimetype": "text/x-python",
   "name": "python",
   "nbconvert_exporter": "python",
   "pygments_lexer": "ipython3",
   "version": "3.6.4"
  }
 },
 "nbformat": 4,
 "nbformat_minor": 2
}
