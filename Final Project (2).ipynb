{
 "cells": [
  {
   "cell_type": "markdown",
   "metadata": {},
   "source": [
    "## Project: Predicting heart diseases with ML\n",
    "\n",
    "The main objective of this task is to analyze the provided data and build a model for predicting heart diseases. \n",
    "\n"
   ]
  },
  {
   "cell_type": "markdown",
   "metadata": {},
   "source": [
    "### Import libraries"
   ]
  },
  {
   "cell_type": "code",
   "execution_count": 11,
   "metadata": {},
   "outputs": [],
   "source": [
    "# import all the libraries you might need for analysis, data wrangling and prediction.\n"
   ]
  },
  {
   "cell_type": "markdown",
   "metadata": {},
   "source": [
    "## 1. Dataset structure & description\n",
    "\n",
    "This dataset includes 14 variables. The independent variable (which you need to predict) is called 'diagnosis' and determines whether or not a person has a heart disease. This variable can be equal to 0 (no heart disease) or take values from 1 to 4 which correspond to different degrees of a heart disease. Some attribute values are missing, as well as the header. So you need to create the header by yourself using the information provided. \n",
    "### Features information:\n",
    "\n",
    "- age - age in years\n",
    "- sex - sex(1 = male; 0 = female)\n",
    "- chest_pain - chest pain type (1 = typical angina; 2 = atypical angina; 3 = non-anginal pain; 4 = asymptomatic)\n",
    "- blood_pressure - resting blood pressure (in mm Hg on admission to the hospital)\n",
    "- serum_cholestoral - serum cholestoral in mg/dl\n",
    "- fasting_blood_sugar - fasting blood sugar > 120 mg/dl (1 = true; 0 = false)\n",
    "- electrocardiographic - resting electrocardiographic results (0 = normal; 1 = having ST-T; 2 = hypertrophy)\n",
    "- max_heart_rate - maximum heart rate achieved\n",
    "- induced_angina - exercise induced angina (1 = yes; 0 = no)\n",
    "- ST_depression - ST depression induced by exercise relative to rest\n",
    "- slope - the slope of the peak exercise ST segment (1 = upsloping; 2 = flat; 3 = downsloping)\n",
    "- no_of_vessels - number of major vessels (0-3) colored by flourosopy\n",
    "- thal - 3 = normal; 6 = fixed defect; 7 = reversable defect\n",
    "- diagnosis - the predicted attribute - diagnosis of heart disease (angiographic disease status) (Value 0 = < 50% diameter narrowing; Value 1 = > 50% diameter narrowing)\n",
    "\n",
    "### Types of features:\n",
    "\n",
    "__Categorical features__ : __sex, chest_pain__  \n",
    "\n",
    "\n",
    "__Ordinal features__ : __fasting_blood_sugar, electrocardiographic, induced_angina, slope, no_of_vessels, thal, diagnosis__\n",
    "\n",
    "\n",
    "__Continuous features__ : __age, blood_pressure, serum_cholestoral, max_heart_rate, ST_depression__\n"
   ]
  },
  {
   "cell_type": "markdown",
   "metadata": {},
   "source": [
    "### Load data"
   ]
  },
  {
   "cell_type": "code",
   "execution_count": 12,
   "metadata": {},
   "outputs": [],
   "source": [
    "# name columns according to the feature information provided above\n",
    "\n",
    "\n",
    "# read the file\n",
    "\n",
    "\n",
    "# display the first 5 lines\n"
   ]
  },
  {
   "cell_type": "code",
   "execution_count": 13,
   "metadata": {},
   "outputs": [],
   "source": [
    "# get info on the dataframe"
   ]
  },
  {
   "cell_type": "code",
   "execution_count": 14,
   "metadata": {},
   "outputs": [],
   "source": [
    "# extract numeric columns and find categorical ones\n"
   ]
  },
  {
   "cell_type": "markdown",
   "metadata": {},
   "source": [
    "## 2.Analyze features, identify patterns, and explore the data\n",
    "\n",
    "### Target value\n",
    "\n"
   ]
  },
  {
   "cell_type": "code",
   "execution_count": 15,
   "metadata": {},
   "outputs": [],
   "source": [
    "# count values of explained variable"
   ]
  },
  {
   "cell_type": "code",
   "execution_count": 16,
   "metadata": {},
   "outputs": [],
   "source": [
    "# analyze data for outliers"
   ]
  },
  {
   "cell_type": "code",
   "execution_count": 17,
   "metadata": {},
   "outputs": [],
   "source": [
    "# if necessary, omit some of the variables\n"
   ]
  },
  {
   "cell_type": "markdown",
   "metadata": {},
   "source": [
    "## 3.Data Preparation\n",
    "\n",
    "We also need to handle missing values in order to feed the data to a machine learning algorithm. \n",
    "\n",
    "You can use one of the following methods:\n",
    "- Using a constant value\n",
    "- Generating a random value from a similar distribution\n",
    "- Using a column mean, median or mode"
   ]
  },
  {
   "cell_type": "code",
   "execution_count": 18,
   "metadata": {},
   "outputs": [],
   "source": [
    "# show columns having missing values\n"
   ]
  },
  {
   "cell_type": "code",
   "execution_count": 19,
   "metadata": {},
   "outputs": [],
   "source": [
    "# fill missing values with mode"
   ]
  },
  {
   "cell_type": "code",
   "execution_count": 20,
   "metadata": {},
   "outputs": [],
   "source": [
    "# extract the target variable\n"
   ]
  },
  {
   "cell_type": "code",
   "execution_count": 21,
   "metadata": {},
   "outputs": [],
   "source": [
    "# split the data into train and test datasets\n"
   ]
  },
  {
   "cell_type": "markdown",
   "metadata": {},
   "source": [
    "Also take care of data normalization. "
   ]
  },
  {
   "cell_type": "code",
   "execution_count": 22,
   "metadata": {},
   "outputs": [],
   "source": [
    "# scale feature matrices\n"
   ]
  },
  {
   "cell_type": "markdown",
   "metadata": {},
   "source": [
    "## 4. Modelling and predicting with Machine Learning\n",
    "\n",
    "Now you are free to use any machine learning algorithm (and even any library) you find appropriate to build a model for predicting the occurrence of a heart disease. Good luck!"
   ]
  }
 ],
 "metadata": {
  "kernelspec": {
   "display_name": "Python 3",
   "language": "python",
   "name": "python3"
  },
  "language_info": {
   "codemirror_mode": {
    "name": "ipython",
    "version": 3
   },
   "file_extension": ".py",
   "mimetype": "text/x-python",
   "name": "python",
   "nbconvert_exporter": "python",
   "pygments_lexer": "ipython3",
   "version": "3.6.4"
  }
 },
 "nbformat": 4,
 "nbformat_minor": 2
}
